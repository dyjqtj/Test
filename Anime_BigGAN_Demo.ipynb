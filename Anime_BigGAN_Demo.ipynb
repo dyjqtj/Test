{
 "cells": [
  {
   "cell_type": "markdown",
   "metadata": {
    "colab_type": "text",
    "id": "view-in-github"
   },
   "source": [
    "<a href=\"https://colab.research.google.com/github/HighCWu/anime_biggan_toy/blob/main/colab/Anime_BigGAN_Demo.ipynb\" target=\"_parent\"><img src=\"https://colab.research.google.com/assets/colab-badge.svg\" alt=\"Open In Colab\"/></a>"
   ]
  },
  {
   "cell_type": "markdown",
   "metadata": {
    "id": "BhN1AplL0Hpv"
   },
   "source": [
    "##### Copyright 2019 The TensorFlow Hub Authors.\n",
    "\n",
    "Licensed under the Apache License, Version 2.0 (the \"License\");"
   ]
  },
  {
   "cell_type": "code",
   "execution_count": 1,
   "metadata": {
    "id": "LMgeG2swVVi6"
   },
   "outputs": [],
   "source": [
    "# Copyright 2019 The TensorFlow Hub Authors. All Rights Reserved.\n",
    "#\n",
    "# Licensed under the Apache License, Version 2.0 (the \"License\");\n",
    "# you may not use this file except in compliance with the License.\n",
    "# You may obtain a copy of the License at\n",
    "#\n",
    "#     http://www.apache.org/licenses/LICENSE-2.0\n",
    "#\n",
    "# Unless required by applicable law or agreed to in writing, software\n",
    "# distributed under the License is distributed on an \"AS IS\" BASIS,\n",
    "# WITHOUT WARRANTIES OR CONDITIONS OF ANY KIND, either express or implied.\n",
    "# See the License for the specific language governing permissions and\n",
    "# limitations under the License.\n",
    "# =============================================================================="
   ]
  },
  {
   "cell_type": "markdown",
   "metadata": {
    "id": "HPIegH0UsrQ_"
   },
   "source": [
    "##### Copyright 2020 Wu Hecong.\n",
    "\n",
    "Licensed under the Apache License, Version 2.0 (the \"License\");"
   ]
  },
  {
   "cell_type": "code",
   "execution_count": 2,
   "metadata": {
    "id": "GpdUkrqPsrRC"
   },
   "outputs": [],
   "source": [
    "# Copyright 2020 HighCWU. All Rights Reserved.\n",
    "#\n",
    "# Licensed under the Apache License, Version 2.0 (the \"License\");\n",
    "# you may not use this file except in compliance with the License.\n",
    "# You may obtain a copy of the License at\n",
    "#\n",
    "#     http://www.apache.org/licenses/LICENSE-2.0\n",
    "#\n",
    "# Unless required by applicable law or agreed to in writing, software\n",
    "# distributed under the License is distributed on an \"AS IS\" BASIS,\n",
    "# WITHOUT WARRANTIES OR CONDITIONS OF ANY KIND, either express or implied.\n",
    "# See the License for the specific language governing permissions and\n",
    "# limitations under the License.\n",
    "# =============================================================================="
   ]
  },
  {
   "cell_type": "markdown",
   "metadata": {
    "id": "AqBuuwrIxlGs"
   },
   "source": [
    "# Generating Danbooru Anime Images 256x256 with BigGAN\n"
   ]
  },
  {
   "cell_type": "markdown",
   "metadata": {
    "id": "p5AWAusyySDA"
   },
   "source": [
    "To get started, connect to a runtime and follow these steps:\n",
    "\n",
    "1. (Optional) Select a model in the second code cell below.\n",
    "2. Click **Runtime > Run all** to run each cell in order.\n",
    "  * Afterwards, the interactive visualizations should update automatically when you modify the settings using the sliders and dropdown menus.\n",
    "\n",
    "Note: if you run into any issues, youn can try restarting the runtime and rerunning all cells from scratch by clicking **Runtime > Restart and run all...**.\n"
   ]
  },
  {
   "cell_type": "markdown",
   "metadata": {
    "id": "_m5jsOM9kXWP"
   },
   "source": [
    "## Setup"
   ]
  },
  {
   "cell_type": "code",
   "execution_count": 3,
   "metadata": {
    "id": "jry_aviZzX9Q"
   },
   "outputs": [
    {
     "ename": "ModuleNotFoundError",
     "evalue": "No module named 'google.colab'",
     "output_type": "error",
     "traceback": [
      "\u001b[0;31m---------------------------------------------------------------------------\u001b[0m",
      "\u001b[0;31mModuleNotFoundError\u001b[0m                       Traceback (most recent call last)",
      "Cell \u001b[0;32mIn[3], line 1\u001b[0m\n\u001b[0;32m----> 1\u001b[0m \u001b[38;5;28;01mfrom\u001b[39;00m \u001b[38;5;21;01mgoogle\u001b[39;00m\u001b[38;5;21;01m.\u001b[39;00m\u001b[38;5;21;01mcolab\u001b[39;00m \u001b[38;5;28;01mimport\u001b[39;00m drive\n\u001b[1;32m      2\u001b[0m drive\u001b[38;5;241m.\u001b[39mmount(\u001b[38;5;124m'\u001b[39m\u001b[38;5;124m/content/drive\u001b[39m\u001b[38;5;124m'\u001b[39m)\n\u001b[1;32m      3\u001b[0m get_ipython()\u001b[38;5;241m.\u001b[39msystem(\u001b[38;5;124m'\u001b[39m\u001b[38;5;124mcp drive/My\u001b[39m\u001b[38;5;130;01m\\\\\u001b[39;00m\u001b[38;5;124m Drive/anime-biggan-256px-run39-607250 ./ -r\u001b[39m\u001b[38;5;124m'\u001b[39m)\n",
      "\u001b[0;31mModuleNotFoundError\u001b[0m: No module named 'google.colab'"
     ]
    }
   ],
   "source": [
    "from google.colab import drive\n",
    "drive.mount('/content/drive')\n",
    "!cp drive/My\\ Drive/anime-biggan-256px-run39-607250 ./ -r"
   ]
  },
  {
   "cell_type": "code",
   "execution_count": null,
   "metadata": {
    "cellView": "both",
    "id": "NhlMa_tHs0_W"
   },
   "outputs": [],
   "source": [
    "# @title Imports and utility functions\n",
    "import os\n",
    "\n",
    "import IPython\n",
    "from IPython.display import display\n",
    "import numpy as np\n",
    "import PIL.Image\n",
    "import pandas as pd\n",
    "import six\n",
    "\n",
    "import tensorflow.compat.v1 as tf\n",
    "tf.disable_v2_behavior()\n",
    "\n",
    "import tensorflow_hub as hub\n",
    "\n",
    "def imgrid(imarray, cols=8, pad=1):\n",
    "  pad = int(pad)\n",
    "  assert pad >= 0\n",
    "  cols = int(cols)\n",
    "  assert cols >= 1\n",
    "  N, H, W, C = imarray.shape\n",
    "  rows = int(np.ceil(N / float(cols)))\n",
    "  batch_pad = rows * cols - N\n",
    "  assert batch_pad >= 0\n",
    "  post_pad = [batch_pad, pad, pad, 0]\n",
    "  pad_arg = [[0, p] for p in post_pad]\n",
    "  imarray = np.pad(imarray, pad_arg, 'constant')\n",
    "  H += pad\n",
    "  W += pad\n",
    "  grid = (imarray\n",
    "          .reshape(rows, cols, H, W, C)\n",
    "          .transpose(0, 2, 1, 3, 4)\n",
    "          .reshape(rows*H, cols*W, C))\n",
    "  return grid[:-pad, :-pad]\n",
    "\n",
    "\n",
    "def imshow(a, format='png', jpeg_fallback=True):\n",
    "  a = np.asarray(a, dtype=np.uint8)\n",
    "  if six.PY3:\n",
    "    str_file = six.BytesIO()\n",
    "  else:\n",
    "    str_file = six.StringIO()\n",
    "  PIL.Image.fromarray(a).save(str_file, format)\n",
    "  png_data = str_file.getvalue()\n",
    "  try:\n",
    "    disp = display(IPython.display.Image(png_data))\n",
    "  except IOError:\n",
    "    if jpeg_fallback and format != 'jpeg':\n",
    "      print ('Warning: image was too large to display in format \"{}\"; '\n",
    "             'trying jpeg instead.').format(format)\n",
    "      return imshow(a, format='jpeg')\n",
    "    else:\n",
    "      raise\n",
    "  return disp\n",
    "\n",
    "\n",
    "class Generator(object):\n",
    "\n",
    "  def __init__(self, module_spec):\n",
    "    self._module_spec = module_spec\n",
    "    self._sess = None\n",
    "    self._graph = tf.Graph()\n",
    "    self._load_model()\n",
    "\n",
    "  @property\n",
    "  def z_dim(self):\n",
    "    return self._z.shape[-1].value\n",
    "\n",
    "  @property\n",
    "  def conditional(self):\n",
    "    return self._labels is not None\n",
    "\n",
    "  def _load_model(self):\n",
    "    with self._graph.as_default():\n",
    "      self._generator = hub.Module(self._module_spec, name=\"gen_module\",\n",
    "                                   tags={\"gen\", \"bsNone\"})\n",
    "      input_info = self._generator.get_input_info_dict()\n",
    "      inputs = {k: tf.placeholder(v.dtype, v.get_shape().as_list(), k)\n",
    "                for k, v in self._generator.get_input_info_dict().items()}\n",
    "      self._samples = self._generator(inputs=inputs, as_dict=True)[\"generated\"]\n",
    "      print(\"Inputs:\", inputs)\n",
    "      print(\"Outputs:\", self._samples)\n",
    "      self._z = inputs[\"z\"]\n",
    "      self._labels = inputs.get(\"labels\", None)\n",
    "\n",
    "  def _init_session(self):\n",
    "    if self._sess is None:\n",
    "      self._sess = tf.Session(graph=self._graph)\n",
    "      self._sess.run(tf.global_variables_initializer())\n",
    "\n",
    "  def get_noise(self, num_samples, seed=None):\n",
    "    if np.isscalar(seed):\n",
    "      np.random.seed(seed)\n",
    "      return np.random.randn(num_samples, self.z_dim)\n",
    "    z = np.empty(shape=(len(seed), self.z_dim), dtype=np.float32)\n",
    "    for i, s in enumerate(seed):\n",
    "      np.random.seed(s)\n",
    "      z[i] = np.random.randn(self.z_dim)\n",
    "    return z\n",
    "\n",
    "  def get_samples(self, z, labels=None):\n",
    "    with self._graph.as_default():\n",
    "      self._init_session()\n",
    "      feed_dict = {self._z: z}\n",
    "      if self.conditional:\n",
    "        assert labels is not None\n",
    "        assert labels.shape[0] == z.shape[0]\n",
    "        feed_dict[self._labels] = labels\n",
    "      samples = self._sess.run(self._samples, feed_dict=feed_dict)\n",
    "      return np.uint8(np.clip(255 * samples, 0, 255))\n",
    "\n",
    "\n",
    "class Discriminator(object):\n",
    "\n",
    "  def __init__(self, module_spec):\n",
    "    self._module_spec = module_spec\n",
    "    self._sess = None\n",
    "    self._graph = tf.Graph()\n",
    "    self._load_model()\n",
    "\n",
    "  @property\n",
    "  def conditional(self):\n",
    "    return \"labels\" in self._inputs\n",
    "\n",
    "  @property\n",
    "  def image_shape(self):\n",
    "    return self._inputs[\"images\"].shape.as_list()[1:]\n",
    "\n",
    "  def _load_model(self):\n",
    "    with self._graph.as_default():\n",
    "      self._discriminator = hub.Module(self._module_spec, name=\"disc_module\",\n",
    "                                       tags={\"disc\", \"bsNone\"})\n",
    "      input_info = self._discriminator.get_input_info_dict()\n",
    "      self._inputs = {k: tf.placeholder(v.dtype, v.get_shape().as_list(), k)\n",
    "                      for k, v in input_info.items()}\n",
    "      self._outputs = self._discriminator(inputs=self._inputs, as_dict=True)\n",
    "      print(\"Inputs:\", self._inputs)\n",
    "      print(\"Outputs:\", self._outputs)\n",
    "\n",
    "  def _init_session(self):\n",
    "    if self._sess is None:\n",
    "      self._sess = tf.Session(graph=self._graph)\n",
    "      self._sess.run(tf.global_variables_initializer())\n",
    "\n",
    "  def predict(self, images, labels=None):\n",
    "    with self._graph.as_default():\n",
    "      self._init_session()\n",
    "      feed_dict = {self._inputs[\"images\"]: images}\n",
    "      if \"labels\" in self._inputs:\n",
    "        assert labels is not None\n",
    "        assert labels.shape[0] == images.shape[0]\n",
    "        feed_dict[self._inputs[\"labels\"]] = labels\n",
    "      return self._sess.run(self._outputs, feed_dict=feed_dict)"
   ]
  },
  {
   "cell_type": "markdown",
   "metadata": {
    "id": "msTFS1UPkugr"
   },
   "source": [
    "## Select a model"
   ]
  },
  {
   "cell_type": "code",
   "execution_count": null,
   "metadata": {
    "cellView": "both",
    "id": "-hBEi9IFdoI-"
   },
   "outputs": [],
   "source": [
    "# @title Select a model { run: \"auto\" }\n",
    "\n",
    "model_name = \"BigGAN 256x256 Danbooru Plus\"  # @param [\"BigGAN 256x256 Danbooru Plus\"]\n",
    "models = {\n",
    "    \"BigGAN 256x256 Danbooru Plus\": \"anime-biggan-256px-run39-607250/tfhub\",\n",
    "}\n",
    "\n",
    "module_spec = models[model_name.split(\" (\")[0]]\n",
    "print(\"Module spec:\", module_spec)\n",
    "\n",
    "tf.reset_default_graph()\n",
    "print(\"Loading model...\")\n",
    "sampler = Generator(module_spec)\n",
    "print(\"Model loaded.\")"
   ]
  },
  {
   "cell_type": "markdown",
   "metadata": {
    "id": "ePQuAme_kxLj"
   },
   "source": [
    "## Sample"
   ]
  },
  {
   "cell_type": "code",
   "execution_count": null,
   "metadata": {
    "cellView": "both",
    "id": "kGgTXtFYq_FV"
   },
   "outputs": [],
   "source": [
    "# @title Sampling { run: \"auto\" }\n",
    "\n",
    "num_rows = 2  # @param {type: \"slider\", min:1, max:16}\n",
    "num_cols = 3  # @param {type: \"slider\", min:1, max:16}\n",
    "noise_seed = 0  # @param {type:\"slider\", min:0, max:100, step:1}\n",
    "label_str = \"-1) Random\"  # @param [\"-1) Random\"]\n",
    "\n",
    "num_classes = 1000\n",
    "num_samples = num_rows * num_cols\n",
    "z = sampler.get_noise(num_samples, seed=noise_seed)\n",
    "\n",
    "label = int(label_str.split(')')[0])\n",
    "if label == -1:\n",
    "  labels = np.random.randint(0, num_classes, size=(num_samples))\n",
    "else:\n",
    "  labels = np.asarray([label] * num_samples)\n",
    "\n",
    "samples = sampler.get_samples(z, labels)\n",
    "imshow(imgrid(samples, cols=num_cols))"
   ]
  },
  {
   "cell_type": "code",
   "execution_count": null,
   "metadata": {
    "cellView": "form",
    "id": "vCffdVZvTtxL"
   },
   "outputs": [],
   "source": [
    "# @title Interpolation { run: \"auto\" }\n",
    "\n",
    "num_samples = 1  # @param {type: \"slider\", min: 1, max: 6, step: 1}\n",
    "num_interps = 6  # @param {type: \"slider\", min: 2, max: 10, step: 1}\n",
    "noise_seed_A = 0  # @param {type: \"slider\", min: 0, max: 100, step: 1}\n",
    "noise_seed_B = 100  # @param {type: \"slider\", min: 0, max: 100, step: 1}\n",
    "noise_seed_L = 1  # @param {type: \"slider\", min: 0, max: 5000, step: 1}\n",
    "label_str = \"-1) Random\"  # @param [\"-1) Random\"]\n",
    "\n",
    "\n",
    "def interpolate(A, B, num_interps):\n",
    "  alphas = np.linspace(0, 1, num_interps)\n",
    "  if A.shape != B.shape:\n",
    "    raise ValueError('A and B must have the same shape to interpolate.')\n",
    "  return np.array([((1-a)*A + a*B)/np.sqrt(a**2 + (1-a)**2) for a in alphas])\n",
    "\n",
    "\n",
    "def interpolate_and_shape(A, B, num_interps):\n",
    "  interps = interpolate(A, B, num_interps)\n",
    "  return (interps.transpose(1, 0, *range(2, len(interps.shape)))\n",
    "                 .reshape(num_samples * num_interps, -1))\n",
    "\n",
    "label = int(label_str.split(')')[0])\n",
    "if label == -1:\n",
    "  label = np.random.RandomState(noise_seed_L).randint(0, num_classes)\n",
    "print('Use label index:', label, '.')\n",
    "print('Different labels basically cause only slight color changes.')\n",
    "\n",
    "labels = np.asarray([label] * num_samples * num_interps)\n",
    "\n",
    "\n",
    "z_A = sampler.get_noise(num_samples, seed=noise_seed_A)\n",
    "z_B = sampler.get_noise(num_samples, seed=noise_seed_B)\n",
    "z = interpolate_and_shape(z_A, z_B, num_interps)\n",
    "\n",
    "samples = sampler.get_samples(z, labels)\n",
    "imshow(imgrid(samples, cols=num_interps))"
   ]
  },
  {
   "cell_type": "markdown",
   "metadata": {
    "id": "esW0Up95Ob6U"
   },
   "source": [
    "## Discriminator"
   ]
  },
  {
   "cell_type": "code",
   "execution_count": null,
   "metadata": {
    "id": "ButxPSq0OzgL"
   },
   "outputs": [],
   "source": [
    "disc = Discriminator(module_spec)\n",
    "\n",
    "batch_size = 4\n",
    "num_classes = 1000\n",
    "images = np.random.random(size=[batch_size] + disc.image_shape)\n",
    "labels = np.random.randint(0, num_classes, size=(batch_size))\n",
    "\n",
    "disc.predict(images, labels=labels)"
   ]
  }
 ],
 "metadata": {
  "accelerator": "GPU",
  "colab": {
   "collapsed_sections": [
    "BhN1AplL0Hpv",
    "HPIegH0UsrQ_"
   ],
   "include_colab_link": true,
   "name": "Anime_BigGAN_Demo.ipynb",
   "private_outputs": true,
   "provenance": []
  },
  "kernelspec": {
   "display_name": "Python 3 (ipykernel)",
   "language": "python",
   "name": "python3"
  },
  "language_info": {
   "codemirror_mode": {
    "name": "ipython",
    "version": 3
   },
   "file_extension": ".py",
   "mimetype": "text/x-python",
   "name": "python",
   "nbconvert_exporter": "python",
   "pygments_lexer": "ipython3",
   "version": "3.9.12"
  }
 },
 "nbformat": 4,
 "nbformat_minor": 1
}
